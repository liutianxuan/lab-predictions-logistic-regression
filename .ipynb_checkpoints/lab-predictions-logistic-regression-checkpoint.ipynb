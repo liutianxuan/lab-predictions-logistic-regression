{
 "cells": [
  {
   "cell_type": "markdown",
   "id": "fa4bff55",
   "metadata": {},
   "source": [
    "*Lab | Making predictions with logistic regression*\n"
   ]
  },
  {
   "cell_type": "markdown",
   "id": "d7219df0",
   "metadata": {},
   "source": [
    "1. Create a query or queries to extract the information you think may be relevant for building the prediction model. It should include some film features and some rental features (X)."
   ]
  },
  {
   "cell_type": "code",
   "execution_count": 242,
   "id": "6f5608e4",
   "metadata": {},
   "outputs": [],
   "source": [
    "import pymysql\n",
    "from sqlalchemy import create_engine\n",
    "import pandas as pd\n",
    "import getpass  # To get the password without showing the input\n",
    "# password = getpass.getpass()"
   ]
  },
  {
   "cell_type": "code",
   "execution_count": 243,
   "id": "5402f27c",
   "metadata": {},
   "outputs": [
    {
     "data": {
      "text/html": [
       "<div>\n",
       "<style scoped>\n",
       "    .dataframe tbody tr th:only-of-type {\n",
       "        vertical-align: middle;\n",
       "    }\n",
       "\n",
       "    .dataframe tbody tr th {\n",
       "        vertical-align: top;\n",
       "    }\n",
       "\n",
       "    .dataframe thead th {\n",
       "        text-align: right;\n",
       "    }\n",
       "</style>\n",
       "<table border=\"1\" class=\"dataframe\">\n",
       "  <thead>\n",
       "    <tr style=\"text-align: right;\">\n",
       "      <th></th>\n",
       "      <th>title</th>\n",
       "      <th>rental_date</th>\n",
       "      <th>rating</th>\n",
       "      <th>length</th>\n",
       "      <th>rental_duration</th>\n",
       "      <th>special_features</th>\n",
       "      <th>category_id</th>\n",
       "    </tr>\n",
       "  </thead>\n",
       "  <tbody>\n",
       "    <tr>\n",
       "      <th>0</th>\n",
       "      <td>ACADEMY DINOSAUR</td>\n",
       "      <td>2005-07-08 19:03:15</td>\n",
       "      <td>PG</td>\n",
       "      <td>86</td>\n",
       "      <td>6</td>\n",
       "      <td>Deleted Scenes,Behind the Scenes</td>\n",
       "      <td>6</td>\n",
       "    </tr>\n",
       "    <tr>\n",
       "      <th>1</th>\n",
       "      <td>ACE GOLDFINGER</td>\n",
       "      <td>2005-08-01 04:24:47</td>\n",
       "      <td>G</td>\n",
       "      <td>48</td>\n",
       "      <td>3</td>\n",
       "      <td>Trailers,Deleted Scenes</td>\n",
       "      <td>11</td>\n",
       "    </tr>\n",
       "    <tr>\n",
       "      <th>2</th>\n",
       "      <td>ADAPTATION HOLES</td>\n",
       "      <td>2005-07-27 01:21:19</td>\n",
       "      <td>NC-17</td>\n",
       "      <td>50</td>\n",
       "      <td>7</td>\n",
       "      <td>Trailers,Deleted Scenes</td>\n",
       "      <td>6</td>\n",
       "    </tr>\n",
       "    <tr>\n",
       "      <th>3</th>\n",
       "      <td>AFFAIR PREJUDICE</td>\n",
       "      <td>2005-07-12 02:40:41</td>\n",
       "      <td>G</td>\n",
       "      <td>117</td>\n",
       "      <td>5</td>\n",
       "      <td>Commentaries,Behind the Scenes</td>\n",
       "      <td>11</td>\n",
       "    </tr>\n",
       "    <tr>\n",
       "      <th>4</th>\n",
       "      <td>AFRICAN EGG</td>\n",
       "      <td>2005-05-28 07:53:38</td>\n",
       "      <td>G</td>\n",
       "      <td>130</td>\n",
       "      <td>6</td>\n",
       "      <td>Deleted Scenes</td>\n",
       "      <td>8</td>\n",
       "    </tr>\n",
       "  </tbody>\n",
       "</table>\n",
       "</div>"
      ],
      "text/plain": [
       "              title         rental_date rating  length  rental_duration  \\\n",
       "0  ACADEMY DINOSAUR 2005-07-08 19:03:15     PG      86                6   \n",
       "1    ACE GOLDFINGER 2005-08-01 04:24:47      G      48                3   \n",
       "2  ADAPTATION HOLES 2005-07-27 01:21:19  NC-17      50                7   \n",
       "3  AFFAIR PREJUDICE 2005-07-12 02:40:41      G     117                5   \n",
       "4       AFRICAN EGG 2005-05-28 07:53:38      G     130                6   \n",
       "\n",
       "                   special_features  category_id  \n",
       "0  Deleted Scenes,Behind the Scenes            6  \n",
       "1           Trailers,Deleted Scenes           11  \n",
       "2           Trailers,Deleted Scenes            6  \n",
       "3    Commentaries,Behind the Scenes           11  \n",
       "4                    Deleted Scenes            8  "
      ]
     },
     "execution_count": 243,
     "metadata": {},
     "output_type": "execute_result"
    }
   ],
   "source": [
    "connection_string = 'mysql+pymysql://root:' + password + '@localhost/sakila'\n",
    "engine = create_engine(connection_string)\n",
    "query = '''SELECT f.title, r.rental_date, f.rating, f.length, f.rental_duration, f.special_features, fc.category_id\n",
    "FROM film f\n",
    "LEFT JOIN inventory i\n",
    "USING (film_id)\n",
    "LEFT JOIN rental r\n",
    "USING (inventory_id)\n",
    "LEFT JOIN film_category fc\n",
    "USING (film_id)\n",
    "GROUP BY f.title\n",
    ";'''\n",
    "\n",
    "data = pd.read_sql_query(query, engine)\n",
    "data.head()"
   ]
  },
  {
   "cell_type": "code",
   "execution_count": 244,
   "id": "0817c9b5",
   "metadata": {},
   "outputs": [
    {
     "data": {
      "text/plain": [
       "title                0\n",
       "rental_date         42\n",
       "rating               0\n",
       "length               0\n",
       "rental_duration      0\n",
       "special_features     0\n",
       "category_id          0\n",
       "dtype: int64"
      ]
     },
     "execution_count": 244,
     "metadata": {},
     "output_type": "execute_result"
    }
   ],
   "source": [
    "data.isna().sum()"
   ]
  },
  {
   "cell_type": "markdown",
   "id": "3bcab854",
   "metadata": {},
   "source": [
    "2. Create a query to get the list of all unique film titles and a boolean indicating if it was rented (rental_date) in May 2005. (Create new column called - 'rented_in_may'). This will be our TARGET (y) variable."
   ]
  },
  {
   "cell_type": "markdown",
   "id": "bf19e5c7",
   "metadata": {},
   "source": [
    "3. Read the data into a Pandas dataframe. At this point you should have 1000 rows. Number of columns depends on the number of features you chose."
   ]
  },
  {
   "cell_type": "code",
   "execution_count": 245,
   "id": "a721cd02",
   "metadata": {},
   "outputs": [
    {
     "data": {
      "text/html": [
       "<div>\n",
       "<style scoped>\n",
       "    .dataframe tbody tr th:only-of-type {\n",
       "        vertical-align: middle;\n",
       "    }\n",
       "\n",
       "    .dataframe tbody tr th {\n",
       "        vertical-align: top;\n",
       "    }\n",
       "\n",
       "    .dataframe thead th {\n",
       "        text-align: right;\n",
       "    }\n",
       "</style>\n",
       "<table border=\"1\" class=\"dataframe\">\n",
       "  <thead>\n",
       "    <tr style=\"text-align: right;\">\n",
       "      <th></th>\n",
       "      <th>title</th>\n",
       "      <th>rental_date</th>\n",
       "      <th>rating</th>\n",
       "      <th>length</th>\n",
       "      <th>rental_duration</th>\n",
       "      <th>special_features</th>\n",
       "      <th>category_id</th>\n",
       "      <th>rented_in_may</th>\n",
       "    </tr>\n",
       "  </thead>\n",
       "  <tbody>\n",
       "    <tr>\n",
       "      <th>0</th>\n",
       "      <td>ACADEMY DINOSAUR</td>\n",
       "      <td>2005-07-08 19:03:15</td>\n",
       "      <td>PG</td>\n",
       "      <td>86</td>\n",
       "      <td>6</td>\n",
       "      <td>Deleted Scenes,Behind the Scenes</td>\n",
       "      <td>6</td>\n",
       "      <td>False</td>\n",
       "    </tr>\n",
       "    <tr>\n",
       "      <th>1</th>\n",
       "      <td>ACE GOLDFINGER</td>\n",
       "      <td>2005-08-01 04:24:47</td>\n",
       "      <td>G</td>\n",
       "      <td>48</td>\n",
       "      <td>3</td>\n",
       "      <td>Trailers,Deleted Scenes</td>\n",
       "      <td>11</td>\n",
       "      <td>False</td>\n",
       "    </tr>\n",
       "    <tr>\n",
       "      <th>2</th>\n",
       "      <td>ADAPTATION HOLES</td>\n",
       "      <td>2005-07-27 01:21:19</td>\n",
       "      <td>NC-17</td>\n",
       "      <td>50</td>\n",
       "      <td>7</td>\n",
       "      <td>Trailers,Deleted Scenes</td>\n",
       "      <td>6</td>\n",
       "      <td>False</td>\n",
       "    </tr>\n",
       "    <tr>\n",
       "      <th>3</th>\n",
       "      <td>AFFAIR PREJUDICE</td>\n",
       "      <td>2005-07-12 02:40:41</td>\n",
       "      <td>G</td>\n",
       "      <td>117</td>\n",
       "      <td>5</td>\n",
       "      <td>Commentaries,Behind the Scenes</td>\n",
       "      <td>11</td>\n",
       "      <td>False</td>\n",
       "    </tr>\n",
       "    <tr>\n",
       "      <th>4</th>\n",
       "      <td>AFRICAN EGG</td>\n",
       "      <td>2005-05-28 07:53:38</td>\n",
       "      <td>G</td>\n",
       "      <td>130</td>\n",
       "      <td>6</td>\n",
       "      <td>Deleted Scenes</td>\n",
       "      <td>8</td>\n",
       "      <td>True</td>\n",
       "    </tr>\n",
       "  </tbody>\n",
       "</table>\n",
       "</div>"
      ],
      "text/plain": [
       "              title         rental_date rating  length  rental_duration  \\\n",
       "0  ACADEMY DINOSAUR 2005-07-08 19:03:15     PG      86                6   \n",
       "1    ACE GOLDFINGER 2005-08-01 04:24:47      G      48                3   \n",
       "2  ADAPTATION HOLES 2005-07-27 01:21:19  NC-17      50                7   \n",
       "3  AFFAIR PREJUDICE 2005-07-12 02:40:41      G     117                5   \n",
       "4       AFRICAN EGG 2005-05-28 07:53:38      G     130                6   \n",
       "\n",
       "                   special_features  category_id  rented_in_may  \n",
       "0  Deleted Scenes,Behind the Scenes            6          False  \n",
       "1           Trailers,Deleted Scenes           11          False  \n",
       "2           Trailers,Deleted Scenes            6          False  \n",
       "3    Commentaries,Behind the Scenes           11          False  \n",
       "4                    Deleted Scenes            8           True  "
      ]
     },
     "execution_count": 245,
     "metadata": {},
     "output_type": "execute_result"
    }
   ],
   "source": [
    "import numpy as np\n",
    "data['rented_in_may']=np.where((data['rental_date'].dt.month)==5.0, True, False)\n",
    "data.head()"
   ]
  },
  {
   "cell_type": "code",
   "execution_count": 246,
   "id": "cbe95aa7",
   "metadata": {},
   "outputs": [
    {
     "data": {
      "text/plain": [
       "title                       object\n",
       "rental_date         datetime64[ns]\n",
       "rating                      object\n",
       "length                       int64\n",
       "rental_duration              int64\n",
       "special_features            object\n",
       "category_id                  int64\n",
       "rented_in_may                 bool\n",
       "dtype: object"
      ]
     },
     "execution_count": 246,
     "metadata": {},
     "output_type": "execute_result"
    }
   ],
   "source": [
    "data.dtypes"
   ]
  },
  {
   "cell_type": "code",
   "execution_count": 247,
   "id": "3a78d9c3",
   "metadata": {},
   "outputs": [
    {
     "data": {
      "text/plain": [
       "False    775\n",
       "True     225\n",
       "Name: rented_in_may, dtype: int64"
      ]
     },
     "execution_count": 247,
     "metadata": {},
     "output_type": "execute_result"
    }
   ],
   "source": [
    "data['rented_in_may'].value_counts()"
   ]
  },
  {
   "cell_type": "code",
   "execution_count": 248,
   "id": "c1be85f8",
   "metadata": {},
   "outputs": [
    {
     "data": {
      "text/html": [
       "<div>\n",
       "<style scoped>\n",
       "    .dataframe tbody tr th:only-of-type {\n",
       "        vertical-align: middle;\n",
       "    }\n",
       "\n",
       "    .dataframe tbody tr th {\n",
       "        vertical-align: top;\n",
       "    }\n",
       "\n",
       "    .dataframe thead th {\n",
       "        text-align: right;\n",
       "    }\n",
       "</style>\n",
       "<table border=\"1\" class=\"dataframe\">\n",
       "  <thead>\n",
       "    <tr style=\"text-align: right;\">\n",
       "      <th></th>\n",
       "      <th>title</th>\n",
       "      <th>rating</th>\n",
       "      <th>length</th>\n",
       "      <th>rental_duration</th>\n",
       "      <th>special_features</th>\n",
       "      <th>category_id</th>\n",
       "      <th>rented_in_may</th>\n",
       "    </tr>\n",
       "  </thead>\n",
       "  <tbody>\n",
       "    <tr>\n",
       "      <th>0</th>\n",
       "      <td>ACADEMY DINOSAUR</td>\n",
       "      <td>PG</td>\n",
       "      <td>86</td>\n",
       "      <td>6</td>\n",
       "      <td>Deleted Scenes,Behind the Scenes</td>\n",
       "      <td>6</td>\n",
       "      <td>False</td>\n",
       "    </tr>\n",
       "    <tr>\n",
       "      <th>1</th>\n",
       "      <td>ACE GOLDFINGER</td>\n",
       "      <td>G</td>\n",
       "      <td>48</td>\n",
       "      <td>3</td>\n",
       "      <td>Trailers,Deleted Scenes</td>\n",
       "      <td>11</td>\n",
       "      <td>False</td>\n",
       "    </tr>\n",
       "    <tr>\n",
       "      <th>2</th>\n",
       "      <td>ADAPTATION HOLES</td>\n",
       "      <td>NC-17</td>\n",
       "      <td>50</td>\n",
       "      <td>7</td>\n",
       "      <td>Trailers,Deleted Scenes</td>\n",
       "      <td>6</td>\n",
       "      <td>False</td>\n",
       "    </tr>\n",
       "    <tr>\n",
       "      <th>3</th>\n",
       "      <td>AFFAIR PREJUDICE</td>\n",
       "      <td>G</td>\n",
       "      <td>117</td>\n",
       "      <td>5</td>\n",
       "      <td>Commentaries,Behind the Scenes</td>\n",
       "      <td>11</td>\n",
       "      <td>False</td>\n",
       "    </tr>\n",
       "    <tr>\n",
       "      <th>4</th>\n",
       "      <td>AFRICAN EGG</td>\n",
       "      <td>G</td>\n",
       "      <td>130</td>\n",
       "      <td>6</td>\n",
       "      <td>Deleted Scenes</td>\n",
       "      <td>8</td>\n",
       "      <td>True</td>\n",
       "    </tr>\n",
       "    <tr>\n",
       "      <th>...</th>\n",
       "      <td>...</td>\n",
       "      <td>...</td>\n",
       "      <td>...</td>\n",
       "      <td>...</td>\n",
       "      <td>...</td>\n",
       "      <td>...</td>\n",
       "      <td>...</td>\n",
       "    </tr>\n",
       "    <tr>\n",
       "      <th>995</th>\n",
       "      <td>YOUNG LANGUAGE</td>\n",
       "      <td>G</td>\n",
       "      <td>183</td>\n",
       "      <td>6</td>\n",
       "      <td>Trailers,Behind the Scenes</td>\n",
       "      <td>6</td>\n",
       "      <td>False</td>\n",
       "    </tr>\n",
       "    <tr>\n",
       "      <th>996</th>\n",
       "      <td>YOUTH KICK</td>\n",
       "      <td>NC-17</td>\n",
       "      <td>179</td>\n",
       "      <td>4</td>\n",
       "      <td>Trailers,Behind the Scenes</td>\n",
       "      <td>12</td>\n",
       "      <td>False</td>\n",
       "    </tr>\n",
       "    <tr>\n",
       "      <th>997</th>\n",
       "      <td>ZHIVAGO CORE</td>\n",
       "      <td>NC-17</td>\n",
       "      <td>105</td>\n",
       "      <td>6</td>\n",
       "      <td>Deleted Scenes</td>\n",
       "      <td>11</td>\n",
       "      <td>False</td>\n",
       "    </tr>\n",
       "    <tr>\n",
       "      <th>998</th>\n",
       "      <td>ZOOLANDER FICTION</td>\n",
       "      <td>R</td>\n",
       "      <td>101</td>\n",
       "      <td>5</td>\n",
       "      <td>Trailers,Deleted Scenes</td>\n",
       "      <td>3</td>\n",
       "      <td>False</td>\n",
       "    </tr>\n",
       "    <tr>\n",
       "      <th>999</th>\n",
       "      <td>ZORRO ARK</td>\n",
       "      <td>NC-17</td>\n",
       "      <td>50</td>\n",
       "      <td>3</td>\n",
       "      <td>Trailers,Commentaries,Behind the Scenes</td>\n",
       "      <td>5</td>\n",
       "      <td>False</td>\n",
       "    </tr>\n",
       "  </tbody>\n",
       "</table>\n",
       "<p>1000 rows × 7 columns</p>\n",
       "</div>"
      ],
      "text/plain": [
       "                 title rating  length  rental_duration  \\\n",
       "0     ACADEMY DINOSAUR     PG      86                6   \n",
       "1       ACE GOLDFINGER      G      48                3   \n",
       "2     ADAPTATION HOLES  NC-17      50                7   \n",
       "3     AFFAIR PREJUDICE      G     117                5   \n",
       "4          AFRICAN EGG      G     130                6   \n",
       "..                 ...    ...     ...              ...   \n",
       "995     YOUNG LANGUAGE      G     183                6   \n",
       "996         YOUTH KICK  NC-17     179                4   \n",
       "997       ZHIVAGO CORE  NC-17     105                6   \n",
       "998  ZOOLANDER FICTION      R     101                5   \n",
       "999          ZORRO ARK  NC-17      50                3   \n",
       "\n",
       "                            special_features  category_id  rented_in_may  \n",
       "0           Deleted Scenes,Behind the Scenes            6          False  \n",
       "1                    Trailers,Deleted Scenes           11          False  \n",
       "2                    Trailers,Deleted Scenes            6          False  \n",
       "3             Commentaries,Behind the Scenes           11          False  \n",
       "4                             Deleted Scenes            8           True  \n",
       "..                                       ...          ...            ...  \n",
       "995               Trailers,Behind the Scenes            6          False  \n",
       "996               Trailers,Behind the Scenes           12          False  \n",
       "997                           Deleted Scenes           11          False  \n",
       "998                  Trailers,Deleted Scenes            3          False  \n",
       "999  Trailers,Commentaries,Behind the Scenes            5          False  \n",
       "\n",
       "[1000 rows x 7 columns]"
      ]
     },
     "execution_count": 248,
     "metadata": {},
     "output_type": "execute_result"
    }
   ],
   "source": [
    "# drop rental_date\n",
    "data = data.drop('rental_date', axis=1)\n",
    "data"
   ]
  },
  {
   "cell_type": "markdown",
   "id": "eaaa9671",
   "metadata": {},
   "source": [
    "4. Analyze extracted features (X) and transform them. You may need to encode some categorical variables, or scale numerical variables."
   ]
  },
  {
   "cell_type": "code",
   "execution_count": 249,
   "id": "875cf9be",
   "metadata": {},
   "outputs": [],
   "source": [
    "# # split special features into separate columns\n",
    "# split = pd.DataFrame(data['special_features'].values.tolist()).rename(columns={0:'special_features'})\n",
    "# split = split['special_features'].str.split(',', expand=True)"
   ]
  },
  {
   "cell_type": "code",
   "execution_count": 250,
   "id": "288d3fb6",
   "metadata": {},
   "outputs": [],
   "source": [
    "# split[0].value_counts()"
   ]
  },
  {
   "cell_type": "code",
   "execution_count": 251,
   "id": "d09980de",
   "metadata": {},
   "outputs": [],
   "source": [
    "# split.columns = ['sf1', 'sf2', 'sf3', 'sf4']\n",
    "# display(split.head(1))"
   ]
  },
  {
   "cell_type": "code",
   "execution_count": 252,
   "id": "fdc39580",
   "metadata": {},
   "outputs": [],
   "source": [
    "# data = pd.concat([data, split], axis=1)"
   ]
  },
  {
   "cell_type": "code",
   "execution_count": 253,
   "id": "825b0910",
   "metadata": {},
   "outputs": [],
   "source": [
    "# data = data.drop('special_features',axis=1)\n",
    "# data"
   ]
  },
  {
   "cell_type": "code",
   "execution_count": 255,
   "id": "d8bbde2f",
   "metadata": {},
   "outputs": [
    {
     "data": {
      "text/plain": [
       "dtype('O')"
      ]
     },
     "execution_count": 255,
     "metadata": {},
     "output_type": "execute_result"
    }
   ],
   "source": [
    "# convert category_id into string\n",
    "data['category_id'] = data['category_id'].astype(str)\n",
    "data['category_id'].dtype"
   ]
  },
  {
   "cell_type": "code",
   "execution_count": 256,
   "id": "a27ac869",
   "metadata": {},
   "outputs": [
    {
     "data": {
      "text/html": [
       "<div>\n",
       "<style scoped>\n",
       "    .dataframe tbody tr th:only-of-type {\n",
       "        vertical-align: middle;\n",
       "    }\n",
       "\n",
       "    .dataframe tbody tr th {\n",
       "        vertical-align: top;\n",
       "    }\n",
       "\n",
       "    .dataframe thead th {\n",
       "        text-align: right;\n",
       "    }\n",
       "</style>\n",
       "<table border=\"1\" class=\"dataframe\">\n",
       "  <thead>\n",
       "    <tr style=\"text-align: right;\">\n",
       "      <th></th>\n",
       "      <th>title</th>\n",
       "      <th>rating</th>\n",
       "      <th>length</th>\n",
       "      <th>rental_duration</th>\n",
       "      <th>category_id</th>\n",
       "      <th>rented_in_may</th>\n",
       "      <th>special_feature_count</th>\n",
       "    </tr>\n",
       "  </thead>\n",
       "  <tbody>\n",
       "    <tr>\n",
       "      <th>0</th>\n",
       "      <td>ACADEMY DINOSAUR</td>\n",
       "      <td>PG</td>\n",
       "      <td>86</td>\n",
       "      <td>6</td>\n",
       "      <td>6</td>\n",
       "      <td>False</td>\n",
       "      <td>2</td>\n",
       "    </tr>\n",
       "    <tr>\n",
       "      <th>1</th>\n",
       "      <td>ACE GOLDFINGER</td>\n",
       "      <td>G</td>\n",
       "      <td>48</td>\n",
       "      <td>3</td>\n",
       "      <td>11</td>\n",
       "      <td>False</td>\n",
       "      <td>2</td>\n",
       "    </tr>\n",
       "    <tr>\n",
       "      <th>2</th>\n",
       "      <td>ADAPTATION HOLES</td>\n",
       "      <td>NC-17</td>\n",
       "      <td>50</td>\n",
       "      <td>7</td>\n",
       "      <td>6</td>\n",
       "      <td>False</td>\n",
       "      <td>2</td>\n",
       "    </tr>\n",
       "    <tr>\n",
       "      <th>3</th>\n",
       "      <td>AFFAIR PREJUDICE</td>\n",
       "      <td>G</td>\n",
       "      <td>117</td>\n",
       "      <td>5</td>\n",
       "      <td>11</td>\n",
       "      <td>False</td>\n",
       "      <td>2</td>\n",
       "    </tr>\n",
       "    <tr>\n",
       "      <th>4</th>\n",
       "      <td>AFRICAN EGG</td>\n",
       "      <td>G</td>\n",
       "      <td>130</td>\n",
       "      <td>6</td>\n",
       "      <td>8</td>\n",
       "      <td>True</td>\n",
       "      <td>1</td>\n",
       "    </tr>\n",
       "    <tr>\n",
       "      <th>...</th>\n",
       "      <td>...</td>\n",
       "      <td>...</td>\n",
       "      <td>...</td>\n",
       "      <td>...</td>\n",
       "      <td>...</td>\n",
       "      <td>...</td>\n",
       "      <td>...</td>\n",
       "    </tr>\n",
       "    <tr>\n",
       "      <th>995</th>\n",
       "      <td>YOUNG LANGUAGE</td>\n",
       "      <td>G</td>\n",
       "      <td>183</td>\n",
       "      <td>6</td>\n",
       "      <td>6</td>\n",
       "      <td>False</td>\n",
       "      <td>2</td>\n",
       "    </tr>\n",
       "    <tr>\n",
       "      <th>996</th>\n",
       "      <td>YOUTH KICK</td>\n",
       "      <td>NC-17</td>\n",
       "      <td>179</td>\n",
       "      <td>4</td>\n",
       "      <td>12</td>\n",
       "      <td>False</td>\n",
       "      <td>2</td>\n",
       "    </tr>\n",
       "    <tr>\n",
       "      <th>997</th>\n",
       "      <td>ZHIVAGO CORE</td>\n",
       "      <td>NC-17</td>\n",
       "      <td>105</td>\n",
       "      <td>6</td>\n",
       "      <td>11</td>\n",
       "      <td>False</td>\n",
       "      <td>1</td>\n",
       "    </tr>\n",
       "    <tr>\n",
       "      <th>998</th>\n",
       "      <td>ZOOLANDER FICTION</td>\n",
       "      <td>R</td>\n",
       "      <td>101</td>\n",
       "      <td>5</td>\n",
       "      <td>3</td>\n",
       "      <td>False</td>\n",
       "      <td>2</td>\n",
       "    </tr>\n",
       "    <tr>\n",
       "      <th>999</th>\n",
       "      <td>ZORRO ARK</td>\n",
       "      <td>NC-17</td>\n",
       "      <td>50</td>\n",
       "      <td>3</td>\n",
       "      <td>5</td>\n",
       "      <td>False</td>\n",
       "      <td>3</td>\n",
       "    </tr>\n",
       "  </tbody>\n",
       "</table>\n",
       "<p>1000 rows × 7 columns</p>\n",
       "</div>"
      ],
      "text/plain": [
       "                 title rating  length  rental_duration category_id  \\\n",
       "0     ACADEMY DINOSAUR     PG      86                6           6   \n",
       "1       ACE GOLDFINGER      G      48                3          11   \n",
       "2     ADAPTATION HOLES  NC-17      50                7           6   \n",
       "3     AFFAIR PREJUDICE      G     117                5          11   \n",
       "4          AFRICAN EGG      G     130                6           8   \n",
       "..                 ...    ...     ...              ...         ...   \n",
       "995     YOUNG LANGUAGE      G     183                6           6   \n",
       "996         YOUTH KICK  NC-17     179                4          12   \n",
       "997       ZHIVAGO CORE  NC-17     105                6          11   \n",
       "998  ZOOLANDER FICTION      R     101                5           3   \n",
       "999          ZORRO ARK  NC-17      50                3           5   \n",
       "\n",
       "     rented_in_may  special_feature_count  \n",
       "0            False                      2  \n",
       "1            False                      2  \n",
       "2            False                      2  \n",
       "3            False                      2  \n",
       "4             True                      1  \n",
       "..             ...                    ...  \n",
       "995          False                      2  \n",
       "996          False                      2  \n",
       "997          False                      1  \n",
       "998          False                      2  \n",
       "999          False                      3  \n",
       "\n",
       "[1000 rows x 7 columns]"
      ]
     },
     "execution_count": 256,
     "metadata": {},
     "output_type": "execute_result"
    }
   ],
   "source": [
    "# count numbers of special features\n",
    "sf_count = []\n",
    "for index, row in data.iterrows():\n",
    "\n",
    "    count = len(row[\"special_features\"].split(\",\"))\n",
    "    sf_count.append(count)\n",
    "\n",
    "\n",
    "data[\"special_feature_count\"] = sf_count\n",
    "data = data.drop('special_features', axis=1)\n",
    "data"
   ]
  },
  {
   "cell_type": "code",
   "execution_count": 266,
   "id": "458ebda4",
   "metadata": {},
   "outputs": [],
   "source": [
    "# X-y split AND train-test split\n",
    "y = data['rented_in_may']\n",
    "X = data.drop('rented_in_may', axis=1)\n",
    "from sklearn.model_selection import train_test_split\n",
    "X_train, X_test, y_train, y_test = train_test_split(X, y, test_size=0.2, random_state=1337)"
   ]
  },
  {
   "cell_type": "code",
   "execution_count": 267,
   "id": "da943a08",
   "metadata": {},
   "outputs": [],
   "source": [
    "from sklearn.preprocessing import MinMaxScaler\n",
    "# from sklearn.preprocessing import StandardScaler\n",
    "\n",
    "X_train_num = X_train.select_dtypes(include = np.number)\n",
    "\n",
    "# Scaling data\n",
    "transformer = MinMaxScaler().fit(X_train_num) # need to keep transformer\n",
    "X_train_normalized = transformer.transform(X_train_num)\n",
    "X_train_norm = pd.DataFrame(X_train_normalized)"
   ]
  },
  {
   "cell_type": "code",
   "execution_count": 268,
   "id": "68c550af",
   "metadata": {},
   "outputs": [
    {
     "data": {
      "text/html": [
       "<div>\n",
       "<style scoped>\n",
       "    .dataframe tbody tr th:only-of-type {\n",
       "        vertical-align: middle;\n",
       "    }\n",
       "\n",
       "    .dataframe tbody tr th {\n",
       "        vertical-align: top;\n",
       "    }\n",
       "\n",
       "    .dataframe thead th {\n",
       "        text-align: right;\n",
       "    }\n",
       "</style>\n",
       "<table border=\"1\" class=\"dataframe\">\n",
       "  <thead>\n",
       "    <tr style=\"text-align: right;\">\n",
       "      <th></th>\n",
       "      <th>length</th>\n",
       "      <th>rental_duration</th>\n",
       "      <th>special_feature_count</th>\n",
       "    </tr>\n",
       "  </thead>\n",
       "  <tbody>\n",
       "    <tr>\n",
       "      <th>0</th>\n",
       "      <td>0.769784</td>\n",
       "      <td>0.50</td>\n",
       "      <td>0.000000</td>\n",
       "    </tr>\n",
       "    <tr>\n",
       "      <th>1</th>\n",
       "      <td>0.151079</td>\n",
       "      <td>0.75</td>\n",
       "      <td>0.000000</td>\n",
       "    </tr>\n",
       "    <tr>\n",
       "      <th>2</th>\n",
       "      <td>0.258993</td>\n",
       "      <td>0.00</td>\n",
       "      <td>0.333333</td>\n",
       "    </tr>\n",
       "    <tr>\n",
       "      <th>3</th>\n",
       "      <td>0.223022</td>\n",
       "      <td>0.50</td>\n",
       "      <td>0.000000</td>\n",
       "    </tr>\n",
       "    <tr>\n",
       "      <th>4</th>\n",
       "      <td>0.733813</td>\n",
       "      <td>0.25</td>\n",
       "      <td>0.333333</td>\n",
       "    </tr>\n",
       "  </tbody>\n",
       "</table>\n",
       "</div>"
      ],
      "text/plain": [
       "     length  rental_duration  special_feature_count\n",
       "0  0.769784             0.50               0.000000\n",
       "1  0.151079             0.75               0.000000\n",
       "2  0.258993             0.00               0.333333\n",
       "3  0.223022             0.50               0.000000\n",
       "4  0.733813             0.25               0.333333"
      ]
     },
     "execution_count": 268,
     "metadata": {},
     "output_type": "execute_result"
    }
   ],
   "source": [
    "X_train_norm.columns = X_train_num.columns\n",
    "X_train_norm.head()"
   ]
  },
  {
   "cell_type": "code",
   "execution_count": 300,
   "id": "f9de2407",
   "metadata": {},
   "outputs": [
    {
     "data": {
      "text/html": [
       "<div>\n",
       "<style scoped>\n",
       "    .dataframe tbody tr th:only-of-type {\n",
       "        vertical-align: middle;\n",
       "    }\n",
       "\n",
       "    .dataframe tbody tr th {\n",
       "        vertical-align: top;\n",
       "    }\n",
       "\n",
       "    .dataframe thead th {\n",
       "        text-align: right;\n",
       "    }\n",
       "</style>\n",
       "<table border=\"1\" class=\"dataframe\">\n",
       "  <thead>\n",
       "    <tr style=\"text-align: right;\">\n",
       "      <th></th>\n",
       "      <th>rating_NC-17</th>\n",
       "      <th>rating_PG</th>\n",
       "      <th>rating_PG-13</th>\n",
       "      <th>rating_R</th>\n",
       "      <th>category_id_10</th>\n",
       "      <th>category_id_11</th>\n",
       "      <th>category_id_12</th>\n",
       "      <th>category_id_13</th>\n",
       "      <th>category_id_14</th>\n",
       "      <th>category_id_15</th>\n",
       "      <th>category_id_16</th>\n",
       "      <th>category_id_2</th>\n",
       "      <th>category_id_3</th>\n",
       "      <th>category_id_4</th>\n",
       "      <th>category_id_5</th>\n",
       "      <th>category_id_6</th>\n",
       "      <th>category_id_7</th>\n",
       "      <th>category_id_8</th>\n",
       "      <th>category_id_9</th>\n",
       "    </tr>\n",
       "  </thead>\n",
       "  <tbody>\n",
       "    <tr>\n",
       "      <th>46</th>\n",
       "      <td>1</td>\n",
       "      <td>0</td>\n",
       "      <td>0</td>\n",
       "      <td>0</td>\n",
       "      <td>0</td>\n",
       "      <td>0</td>\n",
       "      <td>0</td>\n",
       "      <td>0</td>\n",
       "      <td>0</td>\n",
       "      <td>0</td>\n",
       "      <td>0</td>\n",
       "      <td>0</td>\n",
       "      <td>0</td>\n",
       "      <td>0</td>\n",
       "      <td>0</td>\n",
       "      <td>0</td>\n",
       "      <td>0</td>\n",
       "      <td>0</td>\n",
       "      <td>1</td>\n",
       "    </tr>\n",
       "    <tr>\n",
       "      <th>789</th>\n",
       "      <td>0</td>\n",
       "      <td>0</td>\n",
       "      <td>1</td>\n",
       "      <td>0</td>\n",
       "      <td>0</td>\n",
       "      <td>0</td>\n",
       "      <td>0</td>\n",
       "      <td>0</td>\n",
       "      <td>0</td>\n",
       "      <td>0</td>\n",
       "      <td>0</td>\n",
       "      <td>0</td>\n",
       "      <td>0</td>\n",
       "      <td>0</td>\n",
       "      <td>0</td>\n",
       "      <td>0</td>\n",
       "      <td>1</td>\n",
       "      <td>0</td>\n",
       "      <td>0</td>\n",
       "    </tr>\n",
       "    <tr>\n",
       "      <th>722</th>\n",
       "      <td>0</td>\n",
       "      <td>0</td>\n",
       "      <td>1</td>\n",
       "      <td>0</td>\n",
       "      <td>0</td>\n",
       "      <td>0</td>\n",
       "      <td>0</td>\n",
       "      <td>0</td>\n",
       "      <td>1</td>\n",
       "      <td>0</td>\n",
       "      <td>0</td>\n",
       "      <td>0</td>\n",
       "      <td>0</td>\n",
       "      <td>0</td>\n",
       "      <td>0</td>\n",
       "      <td>0</td>\n",
       "      <td>0</td>\n",
       "      <td>0</td>\n",
       "      <td>0</td>\n",
       "    </tr>\n",
       "    <tr>\n",
       "      <th>283</th>\n",
       "      <td>1</td>\n",
       "      <td>0</td>\n",
       "      <td>0</td>\n",
       "      <td>0</td>\n",
       "      <td>0</td>\n",
       "      <td>0</td>\n",
       "      <td>1</td>\n",
       "      <td>0</td>\n",
       "      <td>0</td>\n",
       "      <td>0</td>\n",
       "      <td>0</td>\n",
       "      <td>0</td>\n",
       "      <td>0</td>\n",
       "      <td>0</td>\n",
       "      <td>0</td>\n",
       "      <td>0</td>\n",
       "      <td>0</td>\n",
       "      <td>0</td>\n",
       "      <td>0</td>\n",
       "    </tr>\n",
       "    <tr>\n",
       "      <th>39</th>\n",
       "      <td>0</td>\n",
       "      <td>0</td>\n",
       "      <td>0</td>\n",
       "      <td>1</td>\n",
       "      <td>0</td>\n",
       "      <td>0</td>\n",
       "      <td>0</td>\n",
       "      <td>0</td>\n",
       "      <td>0</td>\n",
       "      <td>0</td>\n",
       "      <td>0</td>\n",
       "      <td>0</td>\n",
       "      <td>0</td>\n",
       "      <td>0</td>\n",
       "      <td>0</td>\n",
       "      <td>1</td>\n",
       "      <td>0</td>\n",
       "      <td>0</td>\n",
       "      <td>0</td>\n",
       "    </tr>\n",
       "  </tbody>\n",
       "</table>\n",
       "</div>"
      ],
      "text/plain": [
       "     rating_NC-17  rating_PG  rating_PG-13  rating_R  category_id_10  \\\n",
       "46              1          0             0         0               0   \n",
       "789             0          0             1         0               0   \n",
       "722             0          0             1         0               0   \n",
       "283             1          0             0         0               0   \n",
       "39              0          0             0         1               0   \n",
       "\n",
       "     category_id_11  category_id_12  category_id_13  category_id_14  \\\n",
       "46                0               0               0               0   \n",
       "789               0               0               0               0   \n",
       "722               0               0               0               1   \n",
       "283               0               1               0               0   \n",
       "39                0               0               0               0   \n",
       "\n",
       "     category_id_15  category_id_16  category_id_2  category_id_3  \\\n",
       "46                0               0              0              0   \n",
       "789               0               0              0              0   \n",
       "722               0               0              0              0   \n",
       "283               0               0              0              0   \n",
       "39                0               0              0              0   \n",
       "\n",
       "     category_id_4  category_id_5  category_id_6  category_id_7  \\\n",
       "46               0              0              0              0   \n",
       "789              0              0              0              1   \n",
       "722              0              0              0              0   \n",
       "283              0              0              0              0   \n",
       "39               0              0              1              0   \n",
       "\n",
       "     category_id_8  category_id_9  \n",
       "46               0              1  \n",
       "789              0              0  \n",
       "722              0              0  \n",
       "283              0              0  \n",
       "39               0              0  "
      ]
     },
     "execution_count": 300,
     "metadata": {},
     "output_type": "execute_result"
    }
   ],
   "source": [
    "X_train_categorical = X_train.select_dtypes(include = object).drop('title', axis=1)\n",
    "X_train_cat = pd.get_dummies(X_train_categorical, \n",
    "                             columns=['rating', 'category_id'],\n",
    "                             drop_first=True)\n",
    "X_train_cat.head()"
   ]
  },
  {
   "cell_type": "code",
   "execution_count": 264,
   "id": "be585971",
   "metadata": {},
   "outputs": [
    {
     "data": {
      "text/plain": [
       "(800, 19)"
      ]
     },
     "execution_count": 264,
     "metadata": {},
     "output_type": "execute_result"
    }
   ],
   "source": [
    "# onehotencoding rating & category_id\n",
    "# from sklearn.preprocessing import OneHotEncoder\n",
    "# encoder = OneHotEncoder(drop='first').fit(X_train_cat)\n",
    "# cols = encoder.get_feature_names_out(input_features=X_train_cat.columns)\n",
    "# X_train_cat_encode = pd.DataFrame(encoder.transform(X_train_cat).toarray(),columns=cols)\n",
    "# X_train_cat_encode.shape\n"
   ]
  },
  {
   "cell_type": "code",
   "execution_count": 273,
   "id": "db8f91a9",
   "metadata": {},
   "outputs": [],
   "source": [
    "X_train_transformed = np.concatenate([X_train_norm, X_train_cat], axis=1)"
   ]
  },
  {
   "cell_type": "markdown",
   "id": "21b34e82",
   "metadata": {},
   "source": [
    "5. Create a logistic regression model to predict 'rented_in_may' from the cleaned data.\n",
    "Evaluate the results."
   ]
  },
  {
   "cell_type": "code",
   "execution_count": 287,
   "id": "5c01377f",
   "metadata": {},
   "outputs": [],
   "source": [
    "from sklearn.linear_model import LogisticRegression\n",
    "classification = LogisticRegression(random_state=1337, solver='saga',\n",
    "                  multi_class='multinomial').fit(X_train_transformed, y_train)"
   ]
  },
  {
   "cell_type": "code",
   "execution_count": 288,
   "id": "04db4841",
   "metadata": {},
   "outputs": [],
   "source": [
    "classification = LogisticRegression(random_state=1337, solver='saga',\n",
    "                  multi_class='multinomial').fit(X_train_transformed, y_train)"
   ]
  },
  {
   "cell_type": "code",
   "execution_count": 289,
   "id": "3e61f183",
   "metadata": {},
   "outputs": [],
   "source": [
    "X_test_num = X_test.select_dtypes(include = np.number)\n",
    "X_test_normalized = transformer.transform(X_test_num)\n",
    "X_test_norm = pd.DataFrame(X_test_normalized)\n"
   ]
  },
  {
   "cell_type": "code",
   "execution_count": 290,
   "id": "47a6d282",
   "metadata": {},
   "outputs": [
    {
     "data": {
      "text/plain": [
       "(200, 19)"
      ]
     },
     "execution_count": 290,
     "metadata": {},
     "output_type": "execute_result"
    }
   ],
   "source": [
    "X_test_categorical = X_test.select_dtypes(include = object).drop('title', axis=1)\n",
    "X_test_cat = pd.get_dummies(X_test_categorical, \n",
    "                             columns=['rating', 'category_id'],\n",
    "                             drop_first=True)\n",
    "X_test_cat.shape"
   ]
  },
  {
   "cell_type": "code",
   "execution_count": 291,
   "id": "5311603c",
   "metadata": {},
   "outputs": [],
   "source": [
    "X_test_transformed = np.concatenate([X_test_norm, X_test_cat], axis=1)"
   ]
  },
  {
   "cell_type": "code",
   "execution_count": 301,
   "id": "a8cf6297",
   "metadata": {},
   "outputs": [
    {
     "data": {
      "text/plain": [
       "array([[0.37410072, 0.        , 0.33333333, ..., 0.        , 0.        ,\n",
       "        0.        ],\n",
       "       [0.96402878, 0.75      , 0.33333333, ..., 0.        , 0.        ,\n",
       "        1.        ],\n",
       "       [0.31654676, 0.25      , 0.        , ..., 0.        , 0.        ,\n",
       "        0.        ],\n",
       "       ...,\n",
       "       [0.27338129, 1.        , 0.33333333, ..., 0.        , 0.        ,\n",
       "        0.        ],\n",
       "       [0.29496403, 0.25      , 0.33333333, ..., 0.        , 0.        ,\n",
       "        0.        ],\n",
       "       [0.4028777 , 0.5       , 0.33333333, ..., 0.        , 0.        ,\n",
       "        1.        ]])"
      ]
     },
     "execution_count": 301,
     "metadata": {},
     "output_type": "execute_result"
    }
   ],
   "source": [
    "X_test_transformed"
   ]
  },
  {
   "cell_type": "code",
   "execution_count": 292,
   "id": "129b8b85",
   "metadata": {},
   "outputs": [
    {
     "data": {
      "text/plain": [
       "0.745"
      ]
     },
     "execution_count": 292,
     "metadata": {},
     "output_type": "execute_result"
    }
   ],
   "source": [
    "predictions = classification.predict(X_test_transformed)\n",
    "classification.score(X_test_transformed, y_test)"
   ]
  },
  {
   "cell_type": "code",
   "execution_count": 293,
   "id": "5c85edf7",
   "metadata": {},
   "outputs": [
    {
     "name": "stdout",
     "output_type": "stream",
     "text": [
      "False    149\n",
      "True      51\n",
      "Name: rented_in_may, dtype: int64\n"
     ]
    }
   ],
   "source": [
    "print(y_test.value_counts())"
   ]
  },
  {
   "cell_type": "code",
   "execution_count": 294,
   "id": "2c0b517f",
   "metadata": {},
   "outputs": [
    {
     "data": {
      "text/plain": [
       "False    200\n",
       "dtype: int64"
      ]
     },
     "execution_count": 294,
     "metadata": {},
     "output_type": "execute_result"
    }
   ],
   "source": [
    "pd.Series(predictions).value_counts()"
   ]
  },
  {
   "cell_type": "code",
   "execution_count": 295,
   "id": "b04e7669",
   "metadata": {},
   "outputs": [
    {
     "data": {
      "text/plain": [
       "array([[149,   0],\n",
       "       [ 51,   0]])"
      ]
     },
     "execution_count": 295,
     "metadata": {},
     "output_type": "execute_result"
    }
   ],
   "source": [
    "from sklearn.metrics import confusion_matrix\n",
    "confusion_matrix(y_test, predictions)"
   ]
  },
  {
   "cell_type": "code",
   "execution_count": 296,
   "id": "575263cc",
   "metadata": {},
   "outputs": [
    {
     "data": {
      "text/plain": [
       "0.705"
      ]
     },
     "execution_count": 296,
     "metadata": {},
     "output_type": "execute_result"
    }
   ],
   "source": [
    "from sklearn import neighbors\n",
    "clf = neighbors.KNeighborsClassifier(n_neighbors=5, weights='uniform')\n",
    "clf.fit(X_train_transformed, y_train)\n",
    "predictions_clf = clf.predict(X_test_transformed)\n",
    "clf.score(X_test_transformed, y_test)"
   ]
  },
  {
   "cell_type": "code",
   "execution_count": 297,
   "id": "0aac0754",
   "metadata": {},
   "outputs": [
    {
     "data": {
      "text/plain": [
       "array([[139,  10],\n",
       "       [ 49,   2]])"
      ]
     },
     "execution_count": 297,
     "metadata": {},
     "output_type": "execute_result"
    }
   ],
   "source": [
    "confusion_matrix(y_test, predictions_clf)"
   ]
  },
  {
   "cell_type": "code",
   "execution_count": 298,
   "id": "a444cbb1",
   "metadata": {},
   "outputs": [
    {
     "data": {
      "text/plain": [
       "False    149\n",
       "True      51\n",
       "Name: rented_in_may, dtype: int64"
      ]
     },
     "execution_count": 298,
     "metadata": {},
     "output_type": "execute_result"
    }
   ],
   "source": [
    "pd.Series(y_test).value_counts()"
   ]
  },
  {
   "cell_type": "code",
   "execution_count": 299,
   "id": "3c7da2c9",
   "metadata": {},
   "outputs": [
    {
     "data": {
      "text/plain": [
       "False    188\n",
       "True      12\n",
       "dtype: int64"
      ]
     },
     "execution_count": 299,
     "metadata": {},
     "output_type": "execute_result"
    }
   ],
   "source": [
    "pd.Series(predictions_clf).value_counts()"
   ]
  }
 ],
 "metadata": {
  "kernelspec": {
   "display_name": "Python 3 (ipykernel)",
   "language": "python",
   "name": "python3"
  },
  "language_info": {
   "codemirror_mode": {
    "name": "ipython",
    "version": 3
   },
   "file_extension": ".py",
   "mimetype": "text/x-python",
   "name": "python",
   "nbconvert_exporter": "python",
   "pygments_lexer": "ipython3",
   "version": "3.10.9"
  }
 },
 "nbformat": 4,
 "nbformat_minor": 5
}
